{
  "nbformat": 4,
  "nbformat_minor": 0,
  "metadata": {
    "colab": {
      "provenance": []
    },
    "kernelspec": {
      "name": "python3",
      "display_name": "Python 3"
    },
    "language_info": {
      "name": "python"
    }
  },
  "cells": [
    {
      "cell_type": "code",
      "execution_count": null,
      "metadata": {
        "colab": {
          "base_uri": "https://localhost:8080/",
          "height": 954
        },
        "id": "9w-KPAiE7P9L",
        "outputId": "1ab1df71-3a3d-405d-d232-21d444adad68"
      },
      "outputs": [
        {
          "output_type": "display_data",
          "data": {
            "text/plain": [
              "<IPython.core.display.HTML object>"
            ],
            "text/html": [
              "\n",
              "     <input type=\"file\" id=\"files-daac22f1-d26e-43b4-bc8d-bb2eacc62577\" name=\"files[]\" multiple disabled\n",
              "        style=\"border:none\" />\n",
              "     <output id=\"result-daac22f1-d26e-43b4-bc8d-bb2eacc62577\">\n",
              "      Upload widget is only available when the cell has been executed in the\n",
              "      current browser session. Please rerun this cell to enable.\n",
              "      </output>\n",
              "      <script>// Copyright 2017 Google LLC\n",
              "//\n",
              "// Licensed under the Apache License, Version 2.0 (the \"License\");\n",
              "// you may not use this file except in compliance with the License.\n",
              "// You may obtain a copy of the License at\n",
              "//\n",
              "//      http://www.apache.org/licenses/LICENSE-2.0\n",
              "//\n",
              "// Unless required by applicable law or agreed to in writing, software\n",
              "// distributed under the License is distributed on an \"AS IS\" BASIS,\n",
              "// WITHOUT WARRANTIES OR CONDITIONS OF ANY KIND, either express or implied.\n",
              "// See the License for the specific language governing permissions and\n",
              "// limitations under the License.\n",
              "\n",
              "/**\n",
              " * @fileoverview Helpers for google.colab Python module.\n",
              " */\n",
              "(function(scope) {\n",
              "function span(text, styleAttributes = {}) {\n",
              "  const element = document.createElement('span');\n",
              "  element.textContent = text;\n",
              "  for (const key of Object.keys(styleAttributes)) {\n",
              "    element.style[key] = styleAttributes[key];\n",
              "  }\n",
              "  return element;\n",
              "}\n",
              "\n",
              "// Max number of bytes which will be uploaded at a time.\n",
              "const MAX_PAYLOAD_SIZE = 100 * 1024;\n",
              "\n",
              "function _uploadFiles(inputId, outputId) {\n",
              "  const steps = uploadFilesStep(inputId, outputId);\n",
              "  const outputElement = document.getElementById(outputId);\n",
              "  // Cache steps on the outputElement to make it available for the next call\n",
              "  // to uploadFilesContinue from Python.\n",
              "  outputElement.steps = steps;\n",
              "\n",
              "  return _uploadFilesContinue(outputId);\n",
              "}\n",
              "\n",
              "// This is roughly an async generator (not supported in the browser yet),\n",
              "// where there are multiple asynchronous steps and the Python side is going\n",
              "// to poll for completion of each step.\n",
              "// This uses a Promise to block the python side on completion of each step,\n",
              "// then passes the result of the previous step as the input to the next step.\n",
              "function _uploadFilesContinue(outputId) {\n",
              "  const outputElement = document.getElementById(outputId);\n",
              "  const steps = outputElement.steps;\n",
              "\n",
              "  const next = steps.next(outputElement.lastPromiseValue);\n",
              "  return Promise.resolve(next.value.promise).then((value) => {\n",
              "    // Cache the last promise value to make it available to the next\n",
              "    // step of the generator.\n",
              "    outputElement.lastPromiseValue = value;\n",
              "    return next.value.response;\n",
              "  });\n",
              "}\n",
              "\n",
              "/**\n",
              " * Generator function which is called between each async step of the upload\n",
              " * process.\n",
              " * @param {string} inputId Element ID of the input file picker element.\n",
              " * @param {string} outputId Element ID of the output display.\n",
              " * @return {!Iterable<!Object>} Iterable of next steps.\n",
              " */\n",
              "function* uploadFilesStep(inputId, outputId) {\n",
              "  const inputElement = document.getElementById(inputId);\n",
              "  inputElement.disabled = false;\n",
              "\n",
              "  const outputElement = document.getElementById(outputId);\n",
              "  outputElement.innerHTML = '';\n",
              "\n",
              "  const pickedPromise = new Promise((resolve) => {\n",
              "    inputElement.addEventListener('change', (e) => {\n",
              "      resolve(e.target.files);\n",
              "    });\n",
              "  });\n",
              "\n",
              "  const cancel = document.createElement('button');\n",
              "  inputElement.parentElement.appendChild(cancel);\n",
              "  cancel.textContent = 'Cancel upload';\n",
              "  const cancelPromise = new Promise((resolve) => {\n",
              "    cancel.onclick = () => {\n",
              "      resolve(null);\n",
              "    };\n",
              "  });\n",
              "\n",
              "  // Wait for the user to pick the files.\n",
              "  const files = yield {\n",
              "    promise: Promise.race([pickedPromise, cancelPromise]),\n",
              "    response: {\n",
              "      action: 'starting',\n",
              "    }\n",
              "  };\n",
              "\n",
              "  cancel.remove();\n",
              "\n",
              "  // Disable the input element since further picks are not allowed.\n",
              "  inputElement.disabled = true;\n",
              "\n",
              "  if (!files) {\n",
              "    return {\n",
              "      response: {\n",
              "        action: 'complete',\n",
              "      }\n",
              "    };\n",
              "  }\n",
              "\n",
              "  for (const file of files) {\n",
              "    const li = document.createElement('li');\n",
              "    li.append(span(file.name, {fontWeight: 'bold'}));\n",
              "    li.append(span(\n",
              "        `(${file.type || 'n/a'}) - ${file.size} bytes, ` +\n",
              "        `last modified: ${\n",
              "            file.lastModifiedDate ? file.lastModifiedDate.toLocaleDateString() :\n",
              "                                    'n/a'} - `));\n",
              "    const percent = span('0% done');\n",
              "    li.appendChild(percent);\n",
              "\n",
              "    outputElement.appendChild(li);\n",
              "\n",
              "    const fileDataPromise = new Promise((resolve) => {\n",
              "      const reader = new FileReader();\n",
              "      reader.onload = (e) => {\n",
              "        resolve(e.target.result);\n",
              "      };\n",
              "      reader.readAsArrayBuffer(file);\n",
              "    });\n",
              "    // Wait for the data to be ready.\n",
              "    let fileData = yield {\n",
              "      promise: fileDataPromise,\n",
              "      response: {\n",
              "        action: 'continue',\n",
              "      }\n",
              "    };\n",
              "\n",
              "    // Use a chunked sending to avoid message size limits. See b/62115660.\n",
              "    let position = 0;\n",
              "    do {\n",
              "      const length = Math.min(fileData.byteLength - position, MAX_PAYLOAD_SIZE);\n",
              "      const chunk = new Uint8Array(fileData, position, length);\n",
              "      position += length;\n",
              "\n",
              "      const base64 = btoa(String.fromCharCode.apply(null, chunk));\n",
              "      yield {\n",
              "        response: {\n",
              "          action: 'append',\n",
              "          file: file.name,\n",
              "          data: base64,\n",
              "        },\n",
              "      };\n",
              "\n",
              "      let percentDone = fileData.byteLength === 0 ?\n",
              "          100 :\n",
              "          Math.round((position / fileData.byteLength) * 100);\n",
              "      percent.textContent = `${percentDone}% done`;\n",
              "\n",
              "    } while (position < fileData.byteLength);\n",
              "  }\n",
              "\n",
              "  // All done.\n",
              "  yield {\n",
              "    response: {\n",
              "      action: 'complete',\n",
              "    }\n",
              "  };\n",
              "}\n",
              "\n",
              "scope.google = scope.google || {};\n",
              "scope.google.colab = scope.google.colab || {};\n",
              "scope.google.colab._files = {\n",
              "  _uploadFiles,\n",
              "  _uploadFilesContinue,\n",
              "};\n",
              "})(self);\n",
              "</script> "
            ]
          },
          "metadata": {}
        },
        {
          "output_type": "stream",
          "name": "stdout",
          "text": [
            "Saving faa_strikes.csv to faa_strikes (2).csv\n"
          ]
        },
        {
          "output_type": "execute_result",
          "data": {
            "text/plain": [
              "shape: (100, 25)\n",
              "┌───────────┬───────────┬───────────┬───────────┬───┬───────────┬───────────┬───────────┬──────────┐\n",
              "│ Airport:  ┆ Airport:  ┆ Origin    ┆ Origin    ┆ … ┆ Wildlife: ┆ Wildlife: ┆ Number of ┆ Record   │\n",
              "│ Code      ┆ Name      ┆ State     ┆ State     ┆   ┆ Species   ┆ Species   ┆ Strikes   ┆ ID       │\n",
              "│ ---       ┆ ---       ┆ ---       ┆ Code      ┆   ┆ ---       ┆ ID        ┆ ---       ┆ ---      │\n",
              "│ str       ┆ str       ┆ str       ┆ ---       ┆   ┆ str       ┆ ---       ┆ i64       ┆ i64      │\n",
              "│           ┆           ┆           ┆ str       ┆   ┆           ┆ str       ┆           ┆          │\n",
              "╞═══════════╪═══════════╪═══════════╪═══════════╪═══╪═══════════╪═══════════╪═══════════╪══════════╡\n",
              "│ KAAF      ┆ APALACHIC ┆ Florida   ┆ FL        ┆ … ┆ Domestic  ┆ 1F12      ┆ 1         ┆ 17459    │\n",
              "│           ┆ OLA       ┆           ┆           ┆   ┆ dog       ┆           ┆           ┆          │\n",
              "│           ┆ REGIONAL  ┆           ┆           ┆   ┆           ┆           ┆           ┆          │\n",
              "│           ┆ ARPT      ┆           ┆           ┆   ┆           ┆           ┆           ┆          │\n",
              "│ KAAF      ┆ APALACHIC ┆ Florida   ┆ FL        ┆ … ┆ Herons,   ┆ I1        ┆ 1         ┆ 17114    │\n",
              "│           ┆ OLA       ┆           ┆           ┆   ┆ egrets,   ┆           ┆           ┆          │\n",
              "│           ┆ REGIONAL  ┆           ┆           ┆   ┆ bitterns  ┆           ┆           ┆          │\n",
              "│           ┆ ARPT      ┆           ┆           ┆   ┆           ┆           ┆           ┆          │\n",
              "│ KABE      ┆ LEHIGH    ┆ Pennsylva ┆ PA        ┆ … ┆ American  ┆ K5114     ┆ 1         ┆ 259361   │\n",
              "│           ┆ VALLEY    ┆ nia       ┆           ┆   ┆ kestrel   ┆           ┆           ┆          │\n",
              "│           ┆ INTL      ┆           ┆           ┆   ┆           ┆           ┆           ┆          │\n",
              "│ KABE      ┆ LEHIGH    ┆ Pennsylva ┆ PA        ┆ … ┆ Mourning  ┆ O2205     ┆ 1         ┆ 345167   │\n",
              "│           ┆ VALLEY    ┆ nia       ┆           ┆   ┆ dove      ┆           ┆           ┆          │\n",
              "│           ┆ INTL      ┆           ┆           ┆   ┆           ┆           ┆           ┆          │\n",
              "│ KABE      ┆ LEHIGH    ┆ Pennsylva ┆ PA        ┆ … ┆ Red-taile ┆ K3302     ┆ 1         ┆ 262782   │\n",
              "│           ┆ VALLEY    ┆ nia       ┆           ┆   ┆ d hawk    ┆           ┆           ┆          │\n",
              "│           ┆ INTL      ┆           ┆           ┆   ┆           ┆           ┆           ┆          │\n",
              "│ …         ┆ …         ┆ …         ┆ …         ┆ … ┆ …         ┆ …         ┆ …         ┆ …        │\n",
              "│ KABI      ┆ ABILENE   ┆ Texas     ┆ TX        ┆ … ┆ McCown's  ┆ ZX023     ┆ 1         ┆ 17037    │\n",
              "│           ┆ REGIONAL  ┆           ┆           ┆   ┆ longspur  ┆           ┆           ┆          │\n",
              "│           ┆ ARPT      ┆           ┆           ┆   ┆           ┆           ┆           ┆          │\n",
              "│ KABI      ┆ ABILENE   ┆ Texas     ┆ TX        ┆ … ┆ Cave      ┆ YI013     ┆ 1         ┆ 17256    │\n",
              "│           ┆ REGIONAL  ┆           ┆           ┆   ┆ swallow   ┆           ┆           ┆          │\n",
              "│           ┆ ARPT      ┆           ┆           ┆   ┆           ┆           ┆           ┆          │\n",
              "│ KABQ      ┆ ALBUQUERQ ┆ New       ┆ NM        ┆ … ┆ Turkey    ┆ K1002     ┆ 1         ┆ 231484   │\n",
              "│           ┆ UE INTL   ┆ Mexico    ┆           ┆   ┆ vulture   ┆           ┆           ┆          │\n",
              "│           ┆ SUNPORT   ┆           ┆           ┆   ┆           ┆           ┆           ┆          │\n",
              "│ KABQ      ┆ ALBUQUERQ ┆ New       ┆ NM        ┆ … ┆ Sparrows  ┆ ZX3       ┆ 1         ┆ 352210   │\n",
              "│           ┆ UE INTL   ┆ Mexico    ┆           ┆   ┆           ┆           ┆           ┆          │\n",
              "│           ┆ SUNPORT   ┆           ┆           ┆   ┆           ┆           ┆           ┆          │\n",
              "│ KABQ      ┆ ALBUQUERQ ┆ New       ┆ NM        ┆ … ┆ Mourning  ┆ O2205     ┆ 1         ┆ 325742   │\n",
              "│           ┆ UE INTL   ┆ Mexico    ┆           ┆   ┆ dove      ┆           ┆           ┆          │\n",
              "│           ┆ SUNPORT   ┆           ┆           ┆   ┆           ┆           ┆           ┆          │\n",
              "└───────────┴───────────┴───────────┴───────────┴───┴───────────┴───────────┴───────────┴──────────┘"
            ],
            "text/html": [
              "<div><style>\n",
              ".dataframe > thead > tr,\n",
              ".dataframe > tbody > tr {\n",
              "  text-align: right;\n",
              "  white-space: pre-wrap;\n",
              "}\n",
              "</style>\n",
              "<small>shape: (100, 25)</small><table border=\"1\" class=\"dataframe\"><thead><tr><th>Airport: Code</th><th>Airport: Name</th><th>Origin State</th><th>Origin State Code</th><th>Country</th><th>Aircraft: Type</th><th>Aircraft: Number of engines</th><th>Collision Date and Time</th><th>When: Time of day</th><th>When: Phase of flight</th><th>Effect: Amount of damage (detailed)</th><th>Effect: Impact to flight</th><th>Effect: Indicated Damage</th><th>Cost: Aircraft time out of service (hours)</th><th>Cost: Total $</th><th>Days</th><th>Feet above ground</th><th>Miles from airport</th><th>Wildlife: Animal Category</th><th>Wildlife: Species Order</th><th>Wildlife: Species Group</th><th>Wildlife: Species</th><th>Wildlife: Species ID</th><th>Number of Strikes</th><th>Record ID</th></tr><tr><td>str</td><td>str</td><td>str</td><td>str</td><td>str</td><td>str</td><td>str</td><td>str</td><td>str</td><td>str</td><td>str</td><td>str</td><td>str</td><td>str</td><td>i64</td><td>str</td><td>str</td><td>str</td><td>str</td><td>str</td><td>str</td><td>str</td><td>str</td><td>i64</td><td>i64</td></tr></thead><tbody><tr><td>&quot;KAAF&quot;</td><td>&quot;APALACHICOLA REGIONAL ARPT&quot;</td><td>&quot;Florida&quot;</td><td>&quot;FL&quot;</td><td>&quot;United States&quot;</td><td>&quot;NA&quot;</td><td>&quot;NA&quot;</td><td>&quot;2012-09-20T23:30:00Z&quot;</td><td>&quot;NA&quot;</td><td>&quot;Take-off run&quot;</td><td>&quot;None&quot;</td><td>&quot;None&quot;</td><td>&quot;No damage&quot;</td><td>&quot;NA&quot;</td><td>0</td><td>&quot;NA&quot;</td><td>&quot;0&quot;</td><td>&quot;NA&quot;</td><td>&quot;Terrestrial Mammals&quot;</td><td>&quot;Canids&quot;</td><td>&quot;Wolves, Dogs, Foxes, Coyote&quot;</td><td>&quot;Domestic dog&quot;</td><td>&quot;1F12&quot;</td><td>1</td><td>17459</td></tr><tr><td>&quot;KAAF&quot;</td><td>&quot;APALACHICOLA REGIONAL ARPT&quot;</td><td>&quot;Florida&quot;</td><td>&quot;FL&quot;</td><td>&quot;United States&quot;</td><td>&quot;Airplane&quot;</td><td>&quot;1&quot;</td><td>&quot;2013-04-23T21:09:00Z&quot;</td><td>&quot;NA&quot;</td><td>&quot;Take-off run&quot;</td><td>&quot;None&quot;</td><td>&quot;None&quot;</td><td>&quot;No damage&quot;</td><td>&quot;NA&quot;</td><td>0</td><td>&quot;NA&quot;</td><td>&quot;NA&quot;</td><td>&quot;NA&quot;</td><td>&quot;Birds&quot;</td><td>&quot;Pelicans, Herons, Egrets, Bitt…</td><td>&quot;Herons, Egrets, Bitterns&quot;</td><td>&quot;Herons, egrets, bitterns&quot;</td><td>&quot;I1&quot;</td><td>1</td><td>17114</td></tr><tr><td>&quot;KABE&quot;</td><td>&quot;LEHIGH VALLEY INTL&quot;</td><td>&quot;Pennsylvania&quot;</td><td>&quot;PA&quot;</td><td>&quot;United States&quot;</td><td>&quot;Airplane&quot;</td><td>&quot;2&quot;</td><td>&quot;2009-04-23T13:22:00Z&quot;</td><td>&quot;Day&quot;</td><td>&quot;Take-off run&quot;</td><td>&quot;Medium&quot;</td><td>&quot;Aborted Take-off&quot;</td><td>&quot;Caused damage&quot;</td><td>&quot;720&quot;</td><td>171132</td><td>&quot;30&quot;</td><td>&quot;0&quot;</td><td>&quot;0&quot;</td><td>&quot;Birds&quot;</td><td>&quot;Caracaras, Falcons&quot;</td><td>&quot;Caracaras, Falcons&quot;</td><td>&quot;American kestrel&quot;</td><td>&quot;K5114&quot;</td><td>1</td><td>259361</td></tr><tr><td>&quot;KABE&quot;</td><td>&quot;LEHIGH VALLEY INTL&quot;</td><td>&quot;Pennsylvania&quot;</td><td>&quot;PA&quot;</td><td>&quot;United States&quot;</td><td>&quot;Airplane&quot;</td><td>&quot;2&quot;</td><td>&quot;2014-04-14T02:00:00Z&quot;</td><td>&quot;Night&quot;</td><td>&quot;Approach&quot;</td><td>&quot;None&quot;</td><td>&quot;None&quot;</td><td>&quot;No damage&quot;</td><td>&quot;15&quot;</td><td>600</td><td>&quot;1&quot;</td><td>&quot;NA&quot;</td><td>&quot;NA&quot;</td><td>&quot;Birds&quot;</td><td>&quot;Pigeons and Doves&quot;</td><td>&quot;Doves&quot;</td><td>&quot;Mourning dove&quot;</td><td>&quot;O2205&quot;</td><td>1</td><td>345167</td></tr><tr><td>&quot;KABE&quot;</td><td>&quot;LEHIGH VALLEY INTL&quot;</td><td>&quot;Pennsylvania&quot;</td><td>&quot;PA&quot;</td><td>&quot;United States&quot;</td><td>&quot;Airplane&quot;</td><td>&quot;2&quot;</td><td>&quot;2009-03-31T22:15:00Z&quot;</td><td>&quot;Day&quot;</td><td>&quot;Approach&quot;</td><td>&quot;Medium&quot;</td><td>&quot;None&quot;</td><td>&quot;Caused damage&quot;</td><td>&quot;12&quot;</td><td>188245</td><td>&quot;1&quot;</td><td>&quot;NA&quot;</td><td>&quot;0&quot;</td><td>&quot;Birds&quot;</td><td>&quot;Hawks, Kites, Eagles, Ospreys,…</td><td>&quot;Kites, Hawks, Eagles&quot;</td><td>&quot;Red-tailed hawk&quot;</td><td>&quot;K3302&quot;</td><td>1</td><td>262782</td></tr><tr><td>&hellip;</td><td>&hellip;</td><td>&hellip;</td><td>&hellip;</td><td>&hellip;</td><td>&hellip;</td><td>&hellip;</td><td>&hellip;</td><td>&hellip;</td><td>&hellip;</td><td>&hellip;</td><td>&hellip;</td><td>&hellip;</td><td>&hellip;</td><td>&hellip;</td><td>&hellip;</td><td>&hellip;</td><td>&hellip;</td><td>&hellip;</td><td>&hellip;</td><td>&hellip;</td><td>&hellip;</td><td>&hellip;</td><td>&hellip;</td><td>&hellip;</td></tr><tr><td>&quot;KABI&quot;</td><td>&quot;ABILENE REGIONAL ARPT&quot;</td><td>&quot;Texas&quot;</td><td>&quot;TX&quot;</td><td>&quot;United States&quot;</td><td>&quot;Airplane&quot;</td><td>&quot;NA&quot;</td><td>&quot;2013-02-13T21:06:00Z&quot;</td><td>&quot;NA&quot;</td><td>&quot;Climb&quot;</td><td>&quot;None&quot;</td><td>&quot;None&quot;</td><td>&quot;No damage&quot;</td><td>&quot;NA&quot;</td><td>0</td><td>&quot;NA&quot;</td><td>&quot;1000&quot;</td><td>&quot;NA&quot;</td><td>&quot;Birds&quot;</td><td>&quot;Perching Birds&quot;</td><td>&quot;Finches&quot;</td><td>&quot;McCown&#x27;s longspur&quot;</td><td>&quot;ZX023&quot;</td><td>1</td><td>17037</td></tr><tr><td>&quot;KABI&quot;</td><td>&quot;ABILENE REGIONAL ARPT&quot;</td><td>&quot;Texas&quot;</td><td>&quot;TX&quot;</td><td>&quot;United States&quot;</td><td>&quot;Airplane&quot;</td><td>&quot;2&quot;</td><td>&quot;2013-10-23T18:45:00Z&quot;</td><td>&quot;NA&quot;</td><td>&quot;Climb&quot;</td><td>&quot;None&quot;</td><td>&quot;None&quot;</td><td>&quot;No damage&quot;</td><td>&quot;NA&quot;</td><td>0</td><td>&quot;NA&quot;</td><td>&quot;4000&quot;</td><td>&quot;NA&quot;</td><td>&quot;Birds&quot;</td><td>&quot;Perching Birds&quot;</td><td>&quot;Swallows and Martins&quot;</td><td>&quot;Cave swallow&quot;</td><td>&quot;YI013&quot;</td><td>1</td><td>17256</td></tr><tr><td>&quot;KABQ&quot;</td><td>&quot;ALBUQUERQUE INTL SUNPORT&quot;</td><td>&quot;New Mexico&quot;</td><td>&quot;NM&quot;</td><td>&quot;United States&quot;</td><td>&quot;Airplane&quot;</td><td>&quot;2&quot;</td><td>&quot;2004-10-30T19:30:00Z&quot;</td><td>&quot;Day&quot;</td><td>&quot;Climb&quot;</td><td>&quot;Minor&quot;</td><td>&quot;None&quot;</td><td>&quot;Caused damage&quot;</td><td>&quot;39&quot;</td><td>3403</td><td>&quot;2&quot;</td><td>&quot;9500&quot;</td><td>&quot;15&quot;</td><td>&quot;Birds&quot;</td><td>&quot;Hawks, Kites, Eagles, Ospreys,…</td><td>&quot;Vultures&quot;</td><td>&quot;Turkey vulture&quot;</td><td>&quot;K1002&quot;</td><td>1</td><td>231484</td></tr><tr><td>&quot;KABQ&quot;</td><td>&quot;ALBUQUERQUE INTL SUNPORT&quot;</td><td>&quot;New Mexico&quot;</td><td>&quot;NM&quot;</td><td>&quot;United States&quot;</td><td>&quot;Airplane&quot;</td><td>&quot;2&quot;</td><td>&quot;2014-09-09T14:12:00Z&quot;</td><td>&quot;Day&quot;</td><td>&quot;Take-off run&quot;</td><td>&quot;None&quot;</td><td>&quot;Precautionary Landing&quot;</td><td>&quot;No damage&quot;</td><td>&quot;4&quot;</td><td>5000</td><td>&quot;0&quot;</td><td>&quot;0&quot;</td><td>&quot;0&quot;</td><td>&quot;Birds&quot;</td><td>&quot;Perching Birds&quot;</td><td>&quot;Sparrows&quot;</td><td>&quot;Sparrows&quot;</td><td>&quot;ZX3&quot;</td><td>1</td><td>352210</td></tr><tr><td>&quot;KABQ&quot;</td><td>&quot;ALBUQUERQUE INTL SUNPORT&quot;</td><td>&quot;New Mexico&quot;</td><td>&quot;NM&quot;</td><td>&quot;United States&quot;</td><td>&quot;Airplane&quot;</td><td>&quot;2&quot;</td><td>&quot;2012-08-22T23:22:00Z&quot;</td><td>&quot;Dusk&quot;</td><td>&quot;Landing Roll&quot;</td><td>&quot;None&quot;</td><td>&quot;None&quot;</td><td>&quot;No damage&quot;</td><td>&quot;2&quot;</td><td>0</td><td>&quot;0&quot;</td><td>&quot;0&quot;</td><td>&quot;0&quot;</td><td>&quot;Birds&quot;</td><td>&quot;Pigeons and Doves&quot;</td><td>&quot;Doves&quot;</td><td>&quot;Mourning dove&quot;</td><td>&quot;O2205&quot;</td><td>1</td><td>325742</td></tr></tbody></table></div>"
            ]
          },
          "metadata": {},
          "execution_count": 6
        }
      ],
      "source": [
        "import polars as pl\n",
        "import numpy as np\n",
        "\n",
        "from google.colab import files\n",
        "uploaded = files.upload()\n",
        "\n",
        "strikes_data = pl.read_csv('faa_strikes.csv')\n",
        "\n",
        "# faa_strikes.head()\n",
        "strikes_data.head(100)"
      ]
    },
    {
      "cell_type": "markdown",
      "source": [
        "**QUESTION 1**"
      ],
      "metadata": {
        "id": "2DRqC9KGD5hx"
      }
    },
    {
      "cell_type": "code",
      "source": [
        "#Create 'date' column by removing the time part\n",
        "strikes = strikes_data.with_columns(\n",
        "    pl.col(\"Collision Date and Time\").str.strptime(pl.Datetime, \"%Y-%m-%dT%H:%M:%SZ\").dt.date().alias(\"date\")\n",
        ")"
      ],
      "metadata": {
        "id": "UUk1jdgp92Jk"
      },
      "execution_count": null,
      "outputs": []
    },
    {
      "cell_type": "code",
      "source": [
        "#Aggregate Number of Strikes by day\n",
        "daily_strikes_df = (\n",
        "    strikes.group_by(\"date\")\n",
        "    .agg(pl.sum(\"Number of Strikes\").alias(\"daily_strikes\"))\n",
        "    .sort(\"date\")\n",
        ")"
      ],
      "metadata": {
        "id": "V4ecwZgmC-ue"
      },
      "execution_count": null,
      "outputs": []
    },
    {
      "cell_type": "code",
      "source": [
        "#Count daily strikes\n",
        "daily_strikes = strikes.group_by(\"date\").agg(\n",
        "    pl.len().alias(\"daily_strikes\")\n",
        ")\n",
        "\n",
        "#Create running total\n",
        "daily_strikes = daily_strikes.sort(\"date\").with_columns(\n",
        "    pl.col(\"daily_strikes\").cum_sum().alias(\"strikes_cumulative\")\n",
        ")\n",
        "\n",
        "#Filter to records up to and including 2013-12-31\n",
        "running_total_strikes = daily_strikes.filter(\n",
        "    pl.col(\"date\") <= pl.date(2013, 12, 31)\n",
        ")\n",
        "\n",
        "running_total_strikes"
      ],
      "metadata": {
        "colab": {
          "base_uri": "https://localhost:8080/",
          "height": 443
        },
        "id": "_HvHDibpDjhd",
        "outputId": "2b3ebc38-4d3a-4674-eb1a-c8a5bc5961d5"
      },
      "execution_count": null,
      "outputs": [
        {
          "output_type": "execute_result",
          "data": {
            "text/plain": [
              "shape: (4_776, 3)\n",
              "┌────────────┬───────────────┬────────────────────┐\n",
              "│ date       ┆ daily_strikes ┆ strikes_cumulative │\n",
              "│ ---        ┆ ---           ┆ ---                │\n",
              "│ date       ┆ u32           ┆ u32                │\n",
              "╞════════════╪═══════════════╪════════════════════╡\n",
              "│ 2000-01-02 ┆ 1             ┆ 1                  │\n",
              "│ 2000-01-03 ┆ 2             ┆ 3                  │\n",
              "│ 2000-01-05 ┆ 3             ┆ 6                  │\n",
              "│ 2000-01-06 ┆ 1             ┆ 7                  │\n",
              "│ 2000-01-08 ┆ 4             ┆ 11                 │\n",
              "│ …          ┆ …             ┆ …                  │\n",
              "│ 2013-12-27 ┆ 6             ┆ 24096              │\n",
              "│ 2013-12-28 ┆ 1             ┆ 24097              │\n",
              "│ 2013-12-29 ┆ 2             ┆ 24099              │\n",
              "│ 2013-12-30 ┆ 4             ┆ 24103              │\n",
              "│ 2013-12-31 ┆ 6             ┆ 24109              │\n",
              "└────────────┴───────────────┴────────────────────┘"
            ],
            "text/html": [
              "<div><style>\n",
              ".dataframe > thead > tr,\n",
              ".dataframe > tbody > tr {\n",
              "  text-align: right;\n",
              "  white-space: pre-wrap;\n",
              "}\n",
              "</style>\n",
              "<small>shape: (4_776, 3)</small><table border=\"1\" class=\"dataframe\"><thead><tr><th>date</th><th>daily_strikes</th><th>strikes_cumulative</th></tr><tr><td>date</td><td>u32</td><td>u32</td></tr></thead><tbody><tr><td>2000-01-02</td><td>1</td><td>1</td></tr><tr><td>2000-01-03</td><td>2</td><td>3</td></tr><tr><td>2000-01-05</td><td>3</td><td>6</td></tr><tr><td>2000-01-06</td><td>1</td><td>7</td></tr><tr><td>2000-01-08</td><td>4</td><td>11</td></tr><tr><td>&hellip;</td><td>&hellip;</td><td>&hellip;</td></tr><tr><td>2013-12-27</td><td>6</td><td>24096</td></tr><tr><td>2013-12-28</td><td>1</td><td>24097</td></tr><tr><td>2013-12-29</td><td>2</td><td>24099</td></tr><tr><td>2013-12-30</td><td>4</td><td>24103</td></tr><tr><td>2013-12-31</td><td>6</td><td>24109</td></tr></tbody></table></div>"
            ]
          },
          "metadata": {},
          "execution_count": 15
        }
      ]
    },
    {
      "cell_type": "markdown",
      "source": [
        "**QUESTION 2**"
      ],
      "metadata": {
        "id": "ss3rZodsD8-p"
      }
    },
    {
      "cell_type": "code",
      "source": [
        "damage_by_state = strikes.group_by(\"Origin State\").agg(\n",
        "    pl.sum(\"Cost: Total $\").alias(\"damage\")\n",
        ")\n",
        "\n",
        "#Ranking states by damage (highest damage = rank 1)\n",
        "damage_by_state = damage_by_state.sort(\"damage\", descending=True).with_columns(\n",
        "    pl.col(\"damage\")\n",
        "      .rank(method=\"min\")\n",
        "      .alias(\"ranking\")\n",
        ")\n",
        "\n",
        "#Filtering to get the state with the 3rd highest damage\n",
        "damage_state = damage_by_state.filter(pl.col(\"ranking\") == 3)\n",
        "\n",
        "damage_state"
      ],
      "metadata": {
        "colab": {
          "base_uri": "https://localhost:8080/",
          "height": 129
        },
        "id": "l3OQa3-JEAMz",
        "outputId": "0b4babf5-d388-43cb-81f2-be8c4ddecdc0"
      },
      "execution_count": null,
      "outputs": [
        {
          "output_type": "execute_result",
          "data": {
            "text/plain": [
              "shape: (1, 3)\n",
              "┌──────────────┬────────┬─────────┐\n",
              "│ Origin State ┆ damage ┆ ranking │\n",
              "│ ---          ┆ ---    ┆ ---     │\n",
              "│ str          ┆ i64    ┆ u32     │\n",
              "╞══════════════╪════════╪═════════╡\n",
              "│ Vermont      ┆ 32946  ┆ 3       │\n",
              "└──────────────┴────────┴─────────┘"
            ],
            "text/html": [
              "<div><style>\n",
              ".dataframe > thead > tr,\n",
              ".dataframe > tbody > tr {\n",
              "  text-align: right;\n",
              "  white-space: pre-wrap;\n",
              "}\n",
              "</style>\n",
              "<small>shape: (1, 3)</small><table border=\"1\" class=\"dataframe\"><thead><tr><th>Origin State</th><th>damage</th><th>ranking</th></tr><tr><td>str</td><td>i64</td><td>u32</td></tr></thead><tbody><tr><td>&quot;Vermont&quot;</td><td>32946</td><td>3</td></tr></tbody></table></div>"
            ]
          },
          "metadata": {},
          "execution_count": 19
        }
      ]
    },
    {
      "cell_type": "markdown",
      "source": [
        "**QUESTION 3**"
      ],
      "metadata": {
        "id": "nkPx8DOIFukT"
      }
    },
    {
      "cell_type": "code",
      "source": [
        "#Sum financial damage by Aircraft Type and Species Group\n",
        "damage_by_type_species = strikes.group_by(\n",
        "    [\"Aircraft: Type\", \"Wildlife: Species Group\"]\n",
        ").agg(\n",
        "    pl.sum(\"Cost: Total $\").alias(\"damage\")\n",
        ")\n",
        "\n",
        "# Step 2: Rank species groups within each Aircraft Type by damage (highest damage = rank 1)\n",
        "damage_by_type_species = damage_by_type_species.with_columns(\n",
        "    pl.col(\"damage\")\n",
        "      .rank(method=\"min\", descending=True)\n",
        "      .over(\"Aircraft: Type\")\n",
        "      .alias(\"ranking\")\n",
        ")\n",
        "\n",
        "# Step 3: Filter to get the species groups with the second-highest damage for each Aircraft Type\n",
        "type_species = damage_by_type_species.filter(pl.col(\"ranking\") == 2)\n",
        "\n",
        "type_species"
      ],
      "metadata": {
        "colab": {
          "base_uri": "https://localhost:8080/",
          "height": 192
        },
        "id": "1Bsc5AMjGIHE",
        "outputId": "788432bf-1fc3-44ea-97b3-6823a3f3e4a6"
      },
      "execution_count": null,
      "outputs": [
        {
          "output_type": "execute_result",
          "data": {
            "text/plain": [
              "shape: (3, 4)\n",
              "┌────────────────┬─────────────────────────┬──────────┬─────────┐\n",
              "│ Aircraft: Type ┆ Wildlife: Species Group ┆ damage   ┆ ranking │\n",
              "│ ---            ┆ ---                     ┆ ---      ┆ ---     │\n",
              "│ str            ┆ str                     ┆ i64      ┆ u32     │\n",
              "╞════════════════╪═════════════════════════╪══════════╪═════════╡\n",
              "│ Helicopter     ┆ Vultures                ┆ 116748   ┆ 2       │\n",
              "│ NA             ┆ Vultures                ┆ 56227    ┆ 2       │\n",
              "│ Airplane       ┆ Kites, Hawks, Eagles    ┆ 48989287 ┆ 2       │\n",
              "└────────────────┴─────────────────────────┴──────────┴─────────┘"
            ],
            "text/html": [
              "<div><style>\n",
              ".dataframe > thead > tr,\n",
              ".dataframe > tbody > tr {\n",
              "  text-align: right;\n",
              "  white-space: pre-wrap;\n",
              "}\n",
              "</style>\n",
              "<small>shape: (3, 4)</small><table border=\"1\" class=\"dataframe\"><thead><tr><th>Aircraft: Type</th><th>Wildlife: Species Group</th><th>damage</th><th>ranking</th></tr><tr><td>str</td><td>str</td><td>i64</td><td>u32</td></tr></thead><tbody><tr><td>&quot;Helicopter&quot;</td><td>&quot;Vultures&quot;</td><td>116748</td><td>2</td></tr><tr><td>&quot;NA&quot;</td><td>&quot;Vultures&quot;</td><td>56227</td><td>2</td></tr><tr><td>&quot;Airplane&quot;</td><td>&quot;Kites, Hawks, Eagles&quot;</td><td>48989287</td><td>2</td></tr></tbody></table></div>"
            ]
          },
          "metadata": {},
          "execution_count": 23
        }
      ]
    },
    {
      "cell_type": "markdown",
      "source": [
        "**QUESTION 4**"
      ],
      "metadata": {
        "id": "jL4IOAJ4HM4R"
      }
    },
    {
      "cell_type": "code",
      "source": [
        "#Create a new column 'date' without time\n",
        "strikes = strikes.with_columns(\n",
        "    pl.col(\"Collision Date and Time\").str.strptime(pl.Datetime, \"%Y-%m-%dT%H:%M:%SZ\").dt.date().alias(\"date\")\n",
        ")"
      ],
      "metadata": {
        "id": "0-H2ktoXHPYp"
      },
      "execution_count": null,
      "outputs": []
    },
    {
      "cell_type": "code",
      "source": [
        "#Sum Number of Strikes by date\n",
        "daily_strikes = strikes.group_by(\"date\").agg(\n",
        "    pl.sum(\"Number of Strikes\").alias(\"daily_strikes\")\n",
        ")"
      ],
      "metadata": {
        "id": "IAPvfQDcJbEf"
      },
      "execution_count": null,
      "outputs": []
    },
    {
      "cell_type": "code",
      "source": [
        "#Sort by date ascending\n",
        "daily_strikes = daily_strikes.sort(\"date\")"
      ],
      "metadata": {
        "id": "Gn_XMQavJdj-"
      },
      "execution_count": null,
      "outputs": []
    },
    {
      "cell_type": "code",
      "source": [
        "#Calculate previous day's strikes using a window function\n",
        "daily_strikes = daily_strikes.with_columns(\n",
        "    pl.col(\"daily_strikes\").shift(1).alias(\"previous_day\")\n",
        ")"
      ],
      "metadata": {
        "id": "Mzy25aXoJhQK"
      },
      "execution_count": null,
      "outputs": []
    },
    {
      "cell_type": "code",
      "source": [
        "#Calculate delta_strikes\n",
        "daily_strikes = daily_strikes.with_columns(\n",
        "    (pl.col(\"daily_strikes\") - pl.col(\"previous_day\")).alias(\"delta_strikes\")\n",
        ")"
      ],
      "metadata": {
        "id": "nEZ6eN4EJjEq"
      },
      "execution_count": null,
      "outputs": []
    },
    {
      "cell_type": "code",
      "source": [
        "#Sort by delta_strikes descending to find largest increases\n",
        "greatest_strike_increase = daily_strikes.sort(\"delta_strikes\", descending=True)\n",
        "\n",
        "greatest_strike_increase"
      ],
      "metadata": {
        "colab": {
          "base_uri": "https://localhost:8080/",
          "height": 443
        },
        "id": "a6iCnvuRJtiX",
        "outputId": "bd4533c6-0922-4bf9-bfc9-ed783c73dc2e"
      },
      "execution_count": null,
      "outputs": [
        {
          "output_type": "execute_result",
          "data": {
            "text/plain": [
              "shape: (5_285, 4)\n",
              "┌────────────┬───────────────┬──────────────┬───────────────┐\n",
              "│ date       ┆ daily_strikes ┆ previous_day ┆ delta_strikes │\n",
              "│ ---        ┆ ---           ┆ ---          ┆ ---           │\n",
              "│ date       ┆ i64           ┆ i64          ┆ i64           │\n",
              "╞════════════╪═══════════════╪══════════════╪═══════════════╡\n",
              "│ 2000-01-02 ┆ 1             ┆ null         ┆ null          │\n",
              "│ 2010-10-29 ┆ 25            ┆ 7            ┆ 18            │\n",
              "│ 2014-08-25 ┆ 25            ┆ 8            ┆ 17            │\n",
              "│ 2012-06-28 ┆ 21            ┆ 5            ┆ 16            │\n",
              "│ 2009-07-07 ┆ 21            ┆ 7            ┆ 14            │\n",
              "│ …          ┆ …             ┆ …            ┆ …             │\n",
              "│ 2012-06-29 ┆ 6             ┆ 21           ┆ -15           │\n",
              "│ 2012-10-14 ┆ 5             ┆ 20           ┆ -15           │\n",
              "│ 2014-08-26 ┆ 10            ┆ 25           ┆ -15           │\n",
              "│ 2014-10-29 ┆ 5             ┆ 24           ┆ -19           │\n",
              "│ 2013-08-20 ┆ 8             ┆ 28           ┆ -20           │\n",
              "└────────────┴───────────────┴──────────────┴───────────────┘"
            ],
            "text/html": [
              "<div><style>\n",
              ".dataframe > thead > tr,\n",
              ".dataframe > tbody > tr {\n",
              "  text-align: right;\n",
              "  white-space: pre-wrap;\n",
              "}\n",
              "</style>\n",
              "<small>shape: (5_285, 4)</small><table border=\"1\" class=\"dataframe\"><thead><tr><th>date</th><th>daily_strikes</th><th>previous_day</th><th>delta_strikes</th></tr><tr><td>date</td><td>i64</td><td>i64</td><td>i64</td></tr></thead><tbody><tr><td>2000-01-02</td><td>1</td><td>null</td><td>null</td></tr><tr><td>2010-10-29</td><td>25</td><td>7</td><td>18</td></tr><tr><td>2014-08-25</td><td>25</td><td>8</td><td>17</td></tr><tr><td>2012-06-28</td><td>21</td><td>5</td><td>16</td></tr><tr><td>2009-07-07</td><td>21</td><td>7</td><td>14</td></tr><tr><td>&hellip;</td><td>&hellip;</td><td>&hellip;</td><td>&hellip;</td></tr><tr><td>2012-06-29</td><td>6</td><td>21</td><td>-15</td></tr><tr><td>2012-10-14</td><td>5</td><td>20</td><td>-15</td></tr><tr><td>2014-08-26</td><td>10</td><td>25</td><td>-15</td></tr><tr><td>2014-10-29</td><td>5</td><td>24</td><td>-19</td></tr><tr><td>2013-08-20</td><td>8</td><td>28</td><td>-20</td></tr></tbody></table></div>"
            ]
          },
          "metadata": {},
          "execution_count": 34
        }
      ]
    },
    {
      "cell_type": "markdown",
      "source": [
        "**QUESTION 5**"
      ],
      "metadata": {
        "id": "r_2RnK5UKK8m"
      }
    },
    {
      "cell_type": "code",
      "source": [
        "#Create a new column 'date' without time\n",
        "strikes = strikes.with_columns(\n",
        "    pl.col(\"Collision Date and Time\").str.strptime(pl.Datetime, \"%Y-%m-%dT%H:%M:%SZ\").dt.date().alias(\"date\")\n",
        ")"
      ],
      "metadata": {
        "id": "fvJPPUUMKWMU"
      },
      "execution_count": null,
      "outputs": []
    },
    {
      "cell_type": "code",
      "source": [
        "#Sum Number of Strikes by date\n",
        "daily_strikes = strikes.group_by(\"Aircraft: Type\", \"date\").agg(\n",
        "    pl.sum(\"Number of Strikes\").alias(\"daily_strikes\")\n",
        ")"
      ],
      "metadata": {
        "id": "TDFa8q3FK3J0"
      },
      "execution_count": null,
      "outputs": []
    },
    {
      "cell_type": "code",
      "source": [
        "#Sort by Aircraft Type and date ascending\n",
        "daily_strikes = daily_strikes.sort([\"Aircraft: Type\", \"date\"])"
      ],
      "metadata": {
        "id": "s1855CIgLDZw"
      },
      "execution_count": null,
      "outputs": []
    },
    {
      "cell_type": "code",
      "source": [
        "#Calculate previous day's strikes within each Aircraft Type\n",
        "daily_strikes = daily_strikes.with_columns(\n",
        "    pl.col(\"daily_strikes\").shift(1).over(\"Aircraft: Type\").alias(\"previous_day\")\n",
        ")"
      ],
      "metadata": {
        "id": "PSOgZHf9LLHp"
      },
      "execution_count": null,
      "outputs": []
    },
    {
      "cell_type": "code",
      "source": [
        "#Calculate delta_strikes\n",
        "daily_strikes = daily_strikes.with_columns(\n",
        "    (pl.col(\"daily_strikes\") - pl.col(\"previous_day\")).alias(\"delta_strikes\")\n",
        ")"
      ],
      "metadata": {
        "id": "lVU8AvsCLMe7"
      },
      "execution_count": null,
      "outputs": []
    },
    {
      "cell_type": "code",
      "source": [
        "#Rank days within each Aircraft Type by delta_strikes (highest increase = rank 1)\n",
        "daily_strikes = daily_strikes.with_columns(\n",
        "    pl.col(\"delta_strikes\")\n",
        "      .rank(method=\"min\", descending=True)\n",
        "      .over(\"Aircraft: Type\")\n",
        "      .alias(\"ranking\")\n",
        ")"
      ],
      "metadata": {
        "id": "owsE2SnWLOaP"
      },
      "execution_count": null,
      "outputs": []
    },
    {
      "cell_type": "code",
      "source": [
        "#Filter to get the day with the largest increase for each Aircraft Type\n",
        "greatest_strike_increase_type = daily_strikes.filter(pl.col(\"ranking\") == 1)\n",
        "\n",
        "greatest_strike_increase_type"
      ],
      "metadata": {
        "colab": {
          "base_uri": "https://localhost:8080/",
          "height": 286
        },
        "id": "JBmX-ONKLQU2",
        "outputId": "4f8f7e68-6855-42e2-cd7b-30d9eca14e3a"
      },
      "execution_count": null,
      "outputs": [
        {
          "output_type": "execute_result",
          "data": {
            "text/plain": [
              "shape: (6, 6)\n",
              "┌────────────────┬────────────┬───────────────┬──────────────┬───────────────┬─────────┐\n",
              "│ Aircraft: Type ┆ date       ┆ daily_strikes ┆ previous_day ┆ delta_strikes ┆ ranking │\n",
              "│ ---            ┆ ---        ┆ ---           ┆ ---          ┆ ---           ┆ ---     │\n",
              "│ str            ┆ date       ┆ i64           ┆ i64          ┆ i64           ┆ u32     │\n",
              "╞════════════════╪════════════╪═══════════════╪══════════════╪═══════════════╪═════════╡\n",
              "│ Airplane       ┆ 2014-08-25 ┆ 25            ┆ 8            ┆ 17            ┆ 1       │\n",
              "│ Helicopter     ┆ 2010-07-21 ┆ 2             ┆ 1            ┆ 1             ┆ 1       │\n",
              "│ Helicopter     ┆ 2012-11-02 ┆ 2             ┆ 1            ┆ 1             ┆ 1       │\n",
              "│ Helicopter     ┆ 2013-10-28 ┆ 2             ┆ 1            ┆ 1             ┆ 1       │\n",
              "│ Helicopter     ┆ 2014-08-14 ┆ 2             ┆ 1            ┆ 1             ┆ 1       │\n",
              "│ NA             ┆ 2014-08-04 ┆ 5             ┆ 1            ┆ 4             ┆ 1       │\n",
              "└────────────────┴────────────┴───────────────┴──────────────┴───────────────┴─────────┘"
            ],
            "text/html": [
              "<div><style>\n",
              ".dataframe > thead > tr,\n",
              ".dataframe > tbody > tr {\n",
              "  text-align: right;\n",
              "  white-space: pre-wrap;\n",
              "}\n",
              "</style>\n",
              "<small>shape: (6, 6)</small><table border=\"1\" class=\"dataframe\"><thead><tr><th>Aircraft: Type</th><th>date</th><th>daily_strikes</th><th>previous_day</th><th>delta_strikes</th><th>ranking</th></tr><tr><td>str</td><td>date</td><td>i64</td><td>i64</td><td>i64</td><td>u32</td></tr></thead><tbody><tr><td>&quot;Airplane&quot;</td><td>2014-08-25</td><td>25</td><td>8</td><td>17</td><td>1</td></tr><tr><td>&quot;Helicopter&quot;</td><td>2010-07-21</td><td>2</td><td>1</td><td>1</td><td>1</td></tr><tr><td>&quot;Helicopter&quot;</td><td>2012-11-02</td><td>2</td><td>1</td><td>1</td><td>1</td></tr><tr><td>&quot;Helicopter&quot;</td><td>2013-10-28</td><td>2</td><td>1</td><td>1</td><td>1</td></tr><tr><td>&quot;Helicopter&quot;</td><td>2014-08-14</td><td>2</td><td>1</td><td>1</td><td>1</td></tr><tr><td>&quot;NA&quot;</td><td>2014-08-04</td><td>5</td><td>1</td><td>4</td><td>1</td></tr></tbody></table></div>"
            ]
          },
          "metadata": {},
          "execution_count": 44
        }
      ]
    }
  ]
}